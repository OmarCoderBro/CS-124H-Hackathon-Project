{
 "cells": [
  {
   "cell_type": "code",
   "execution_count": 33,
   "metadata": {},
   "outputs": [],
   "source": [
    "import pandas as pd\n",
    "import numpy as np\n",
    "import sys"
   ]
  },
  {
   "cell_type": "code",
   "execution_count": 35,
   "metadata": {},
   "outputs": [],
   "source": [
    "def scheduleMix(schedules: list[np.ndarray], group: list[int]) -> list[np.ndarray]: \n",
    "    return np.sum(schedules[group], axis = 0)"
   ]
  },
  {
   "cell_type": "code",
   "execution_count": null,
   "metadata": {},
   "outputs": [
    {
     "ename": "SyntaxError",
     "evalue": "incomplete input (1016174862.py, line 33)",
     "output_type": "error",
     "traceback": [
      "\u001b[1;36m  Cell \u001b[1;32mIn[37], line 33\u001b[1;36m\u001b[0m\n\u001b[1;33m    \u001b[0m\n\u001b[1;37m    ^\u001b[0m\n\u001b[1;31mSyntaxError\u001b[0m\u001b[1;31m:\u001b[0m incomplete input\n"
     ]
    }
   ],
   "source": [
    "\n",
    "class Event:\n",
    "    scheduled = False\n",
    "    def __init__(self, length: int, startTime : list, endTime: list, group: np.ndarray): #event length is stored in terms of how many time interval blocks it takes.\n",
    "        \"\"\" \n",
    "        eventLength is stored as an int being the amount of time blocks it would take up\n",
    "        start Time and end time need some work as how they will be stored is still in question\n",
    "        \"\"\"\n",
    "        self.length = length\n",
    "        self.startTime = startTime\n",
    "        self.endTime = endTime\n",
    "        self.group = group\n",
    "\n",
    "    def scheduleEvent(self, schedules: np.ndarray , time: list, cancelIfEverybodyNeeded: bool):\n",
    "        \"\"\"Time is stored as a 2d cordinate being (day of the week, time of day by block #)\"\"\"\n",
    "        if cancelIfEverybodyNeeded:\n",
    "            scheduleMix(schedules, self.group)\n",
    "            for idx in range(self.eventLength): # Asummes 1 means the spot is filled already\n",
    "                if not schedules[idx]:\n",
    "                    return\n",
    "        for member in self.group:\n",
    "            for idx in range(self.eventLength): \n",
    "                if not schedules[(member,idx)]:\n",
    "                    schedules[(member,idx)] = 1\n",
    "        self.scheduled = True\n",
    "\n",
    "\n",
    "                \n",
    "\n",
    "\n",
    "                \n",
    "\n",
    "    "
   ]
  },
  {
   "cell_type": "code",
   "execution_count": null,
   "metadata": {},
   "outputs": [],
   "source": [
    "def bestEventTime(schedules: list[np.ndarray], event: Event):\n",
    "    \"\"\" \n",
    "    generator to yield the best times in succession from a pre-computed list\n",
    "    \"\"\"\n",
    "    mix = scheduleMix(schedules, event.group)\n",
    "    \n",
    "    # Create a list to store all possible time slots with their scores\n",
    "    all_slots = []\n",
    "    \n",
    "    # Generate all possible time slots\n",
    "    for i, day in enumerate(mix):\n",
    "        for idx in range(len(day)-event.length):\n",
    "            array = day[idx:idx+event.length]\n",
    "            score = max(array) \n",
    "            all_slots.append({\n",
    "                'day': i,\n",
    "                'start': idx,\n",
    "                'score': score\n",
    "            })\n",
    "    \n",
    "    all_slots.sort(key=lambda x: x['score'])\n",
    "    \n",
    "    # Yield each slot in order\n",
    "    for slot in all_slots:\n",
    "        yield slot"
   ]
  },
  {
   "cell_type": "code",
   "execution_count": null,
   "metadata": {},
   "outputs": [
    {
     "ename": "SyntaxError",
     "evalue": "invalid syntax (3248419516.py, line 1)",
     "output_type": "error",
     "traceback": [
      "\u001b[1;36m  Cell \u001b[1;32mIn[2], line 1\u001b[1;36m\u001b[0m\n\u001b[1;33m    def algorithe(events: event, schedules, np.ndarray):\u001b[0m\n\u001b[1;37m                                              ^\u001b[0m\n\u001b[1;31mSyntaxError\u001b[0m\u001b[1;31m:\u001b[0m invalid syntax\n"
     ]
    }
   ],
   "source": [
    "def algowrithe(events: list[Event], schedules: np.ndarray):\n",
    "    scheduledEventMap = np.zeros_like(schedules[0])\n",
    "    generators = [0 for _ in events]\n",
    "    events.sort(key=lambda x: len(x.group), reverse=True)\n",
    "    \n",
    "    for event_idx, event in enumerate(events):\n",
    "        generators[event_idx] = bestEventTime(schedules, event)\n",
    "\n",
    "        while True:\n",
    "            time = next(generators[event_idx])\n",
    "\n",
    "            schedule = True\n",
    "            for x in range(event.length):\n",
    "                if scheduledEventMap[time['day'],time['start'] + x]:\n",
    "            \n",
    "\n",
    "\n",
    "        \n",
    "        \n",
    "    \n",
    "        \n",
    "\n",
    "    \n"
   ]
  },
  {
   "cell_type": "code",
   "execution_count": null,
   "metadata": {},
   "outputs": [],
   "source": [
    "def simpleAlgowrithe(events: list[Event], schedules: list[np.ndarray]):\n",
    "    \"\"\"\n",
    "    Schedule events optimally, prioritizing events with larger groups\n",
    "    \n",
    "    Args:\n",
    "        events: list of Event objects to schedule\n",
    "        schedules: list of numpy arrays representing individual schedules\n",
    "    \n",
    "    Returns:\n",
    "        np.ndarray: Map of scheduled events where the value is the event index + 1 \n",
    "                   (0 means no event scheduled)\n",
    "    \"\"\"\n",
    "    # Initialize the schedule map with correct shape based on first schedule\n",
    "    scheduledEventMap = np.zeros_like(schedules[0])\n",
    "    \n",
    "    # Sort events by group size in descending order (largest first)\n",
    "    events.sort(key=lambda x: len(x.group), reverse=True)\n",
    "    \n",
    "    for event_idx, event in enumerate(events):\n",
    "        # Create generator for this event's possible times\n",
    "        time_generator = bestEventTime(schedules, event)\n",
    "        \n",
    "        scheduled = False\n",
    "        for time_slot in time_generator:\n",
    "            day, start = time_slot\n",
    "            \n",
    "            # Check if this slot is free in the scheduled event map\n",
    "            slot_is_free = True\n",
    "            for t in range(event.length):\n",
    "                if scheduledEventMap[day][start + t] != 0:\n",
    "                    slot_is_free = False\n",
    "                    break\n",
    "            \n",
    "            if slot_is_free:\n",
    "                # Schedule the event (mark with event_idx + 1 to distinguish from 0)\n",
    "                for t in range(event.length):\n",
    "                    scheduledEventMap[day][start + t] = event_idx + 1\n",
    "                scheduled = True\n",
    "                break\n",
    "        \n",
    "        if not scheduled:\n",
    "            print(f\"Warning: Could not schedule event {event_idx}\")\n",
    "    \n",
    "    return scheduledEventMap"
   ]
  },
  {
   "cell_type": "code",
   "execution_count": null,
   "metadata": {},
   "outputs": [],
   "source": []
  },
  {
   "cell_type": "code",
   "execution_count": null,
   "metadata": {},
   "outputs": [],
   "source": []
  },
  {
   "cell_type": "code",
   "execution_count": null,
   "metadata": {},
   "outputs": [],
   "source": []
  },
  {
   "cell_type": "code",
   "execution_count": null,
   "metadata": {},
   "outputs": [],
   "source": []
  },
  {
   "cell_type": "markdown",
   "metadata": {},
   "source": [
    "Experimental code below\n"
   ]
  },
  {
   "cell_type": "code",
   "execution_count": null,
   "metadata": {},
   "outputs": [],
   "source": []
  },
  {
   "cell_type": "code",
   "execution_count": 2,
   "metadata": {},
   "outputs": [],
   "source": [
    "def a():\n",
    "    yield 1\n",
    "    yield 2"
   ]
  },
  {
   "cell_type": "code",
   "execution_count": 28,
   "metadata": {},
   "outputs": [
    {
     "data": {
      "text/plain": [
       "<generator object a at 0x0000022F79F1CA90>"
      ]
     },
     "execution_count": 28,
     "metadata": {},
     "output_type": "execute_result"
    }
   ],
   "source": [
    "q = a()\n",
    "q"
   ]
  },
  {
   "cell_type": "code",
   "execution_count": null,
   "metadata": {},
   "outputs": [],
   "source": [
    "from perlin_noise import PerlinNoise\n",
    "\n",
    "def generate_perlin_noise(shape, scale=10, threshold=0):\n",
    "    noise = PerlinNoise(octaves=4)  \n",
    "    noise_array = np.zeros(shape)\n",
    "    \n",
    "    x = np.linspace(0, 1, shape[0]) \n",
    "    y = np.linspace(0, 1, shape[1]) \n",
    "    xv, yv = np.meshgrid(x, y, indexing='ij')  \n",
    "    \n",
    "    for i in range(shape[0]):\n",
    "        for j in range(shape[1]):\n",
    "            noise_value = noise([xv[i, j] * scale, yv[i, j] * scale])\n",
    "            noise_array[i, j] = 1 if noise_value > threshold else 0\n",
    "    \n",
    "    return noise_array\n",
    "\n",
    "exampleSchedule = np.asarray([generate_perlin_noise((7, 135), scale=5, threshold=0) for _ in range(15)])   ################## Generates 15 example schedules to use for testing\n",
    "\n",
    "groups = [np.asarray([5,7,9,1,11,13]),np.asarray([0,1,2,3,4,5,6,7,8,9,10,11,12,13,14])] ###################### define groups\n",
    "\n",
    "print(exampleSchedule[0])"
   ]
  },
  {
   "cell_type": "code",
   "execution_count": 24,
   "metadata": {},
   "outputs": [
    {
     "data": {
      "text/plain": [
       "array([[0., 0., 1., 1., 1., 2., 3., 3., 3., 1., 1., 1., 1., 2., 4., 4.,\n",
       "        4., 3., 3., 2., 2., 4., 4., 4., 2., 3., 4., 2., 2., 3., 3., 3.,\n",
       "        2., 2., 4., 4., 2., 3., 3., 3., 2., 4., 3., 2., 2., 3., 3., 3.,\n",
       "        3., 3., 3., 4., 3., 4., 2., 2., 2., 2., 2., 2., 2., 4., 5., 5.,\n",
       "        5., 5., 5., 0., 1., 1., 2., 2., 2., 3., 3., 3., 3., 3., 3., 3.,\n",
       "        2., 3., 3., 3., 2., 1., 2., 2., 4., 4., 4., 4., 3., 2., 4., 4.,\n",
       "        2., 2., 3., 4., 3., 3., 3., 3., 3., 2., 1., 1., 5., 5., 4., 4.,\n",
       "        4., 4., 2., 2., 2., 3., 5., 4., 4., 2., 2., 2., 4., 4., 4., 4.,\n",
       "        2., 2., 2., 1., 1., 0., 0.],\n",
       "       [1., 2., 3., 4., 3., 3., 3., 4., 4., 3., 3., 3., 2., 3., 2., 2.,\n",
       "        1., 1., 1., 0., 0., 3., 3., 2., 3., 2., 2., 1., 2., 2., 3., 3.,\n",
       "        3., 3., 3., 3., 3., 3., 2., 2., 2., 2., 2., 3., 3., 3., 3., 3.,\n",
       "        2., 2., 2., 2., 3., 4., 5., 6., 5., 3., 2., 2., 2., 1., 4., 4.,\n",
       "        4., 4., 4., 4., 4., 5., 4., 3., 3., 3., 4., 4., 4., 4., 3., 3.,\n",
       "        3., 4., 3., 3., 3., 3., 3., 3., 2., 2., 4., 4., 4., 3., 4., 4.,\n",
       "        4., 2., 2., 1., 2., 2., 2., 3., 3., 2., 5., 4., 4., 4., 3., 4.,\n",
       "        3., 1., 3., 3., 3., 2., 3., 3., 3., 2., 3., 4., 5., 5., 4., 5.,\n",
       "        3., 3., 3., 4., 4., 5., 4.],\n",
       "       [1., 1., 2., 2., 1., 1., 3., 3., 2., 2., 3., 3., 3., 3., 3., 4.,\n",
       "        3., 3., 2., 2., 2., 2., 1., 4., 4., 4., 3., 3., 3., 3., 1., 1.,\n",
       "        3., 3., 2., 5., 5., 5., 3., 3., 3., 4., 3., 2., 2., 1., 1., 2.,\n",
       "        3., 4., 3., 2., 4., 5., 5., 5., 5., 5., 4., 3., 4., 5., 5., 4.,\n",
       "        4., 4., 4., 4., 4., 4., 3., 3., 4., 4., 4., 4., 3., 2., 2., 3.,\n",
       "        3., 4., 3., 4., 4., 3., 3., 2., 3., 3., 3., 2., 3., 2., 2., 3.,\n",
       "        4., 3., 3., 3., 4., 4., 3., 3., 2., 2., 2., 1., 2., 3., 4., 5.,\n",
       "        5., 4., 4., 4., 2., 2., 3., 3., 2., 2., 1., 3., 3., 3., 2., 2.,\n",
       "        2., 0., 0., 1., 1., 1., 2.],\n",
       "       [0., 3., 1., 1., 1., 1., 2., 4., 4., 4., 3., 3., 2., 2., 4., 4.,\n",
       "        4., 4., 2., 4., 4., 2., 3., 3., 3., 2., 2., 4., 4., 3., 2., 3.,\n",
       "        3., 3., 4., 4., 2., 2., 3., 3., 3., 3., 3., 3., 4., 4., 4., 2.,\n",
       "        2., 2., 2., 2., 2., 2., 4., 4., 5., 5., 5., 5., 5., 1., 1., 2.,\n",
       "        2., 2., 3., 0., 2., 3., 3., 3., 3., 2., 4., 3., 3., 2., 1., 2.,\n",
       "        2., 4., 4., 4., 4., 4., 2., 2., 4., 2., 2., 3., 4., 3., 3., 3.,\n",
       "        3., 3., 3., 1., 1., 5., 4., 4., 4., 4., 4., 4., 2., 2., 3., 5.,\n",
       "        4., 4., 2., 2., 2., 2., 4., 4., 4., 2., 2., 2., 1., 1., 0., 0.,\n",
       "        6., 6., 6., 5., 3., 3., 0.],\n",
       "       [4., 3., 3., 3., 3., 3., 3., 2., 2., 1., 0., 1., 1., 0., 3., 3.,\n",
       "        2., 3., 2., 1., 1., 1., 2., 3., 3., 3., 3., 3., 3., 2., 3., 3.,\n",
       "        2., 2., 2., 2., 2., 3., 3., 3., 3., 2., 2., 2., 2., 2., 3., 5.,\n",
       "        6., 5., 3., 2., 2., 2., 1., 4., 4., 4., 4., 4., 4., 4., 4., 4.,\n",
       "        4., 3., 3., 4., 4., 4., 4., 3., 3., 3., 4., 3., 3., 3., 3., 3.,\n",
       "        3., 2., 2., 3., 4., 4., 3., 4., 4., 4., 2., 2., 2., 2., 2., 2.,\n",
       "        3., 3., 2., 4., 4., 4., 4., 4., 3., 3., 1., 2., 3., 3., 3., 3.,\n",
       "        3., 3., 2., 3., 4., 4., 5., 4., 5., 3., 2., 3., 3., 4., 5., 4.,\n",
       "        4., 4., 4., 4., 5., 3., 3.],\n",
       "       [3., 3., 2., 2., 3., 3., 3., 3., 4., 2., 3., 2., 2., 2., 2., 1.,\n",
       "        3., 4., 4., 4., 3., 3., 3., 2., 1., 1., 3., 3., 3., 5., 5., 3.,\n",
       "        3., 3., 4., 4., 3., 2., 2., 1., 1., 3., 3., 3., 2., 4., 5., 5.,\n",
       "        5., 5., 5., 4., 3., 4., 4., 5., 5., 4., 4., 4., 4., 4., 4., 4.,\n",
       "        3., 3., 4., 4., 4., 4., 3., 2., 2., 3., 3., 4., 3., 5., 3., 3.,\n",
       "        2., 3., 3., 3., 2., 3., 2., 2., 3., 4., 4., 3., 3., 4., 4., 3.,\n",
       "        3., 2., 2., 2., 1., 2., 3., 4., 5., 5., 4., 4., 4., 3., 2., 3.,\n",
       "        3., 3., 2., 1., 3., 3., 3., 2., 2., 2., 0., 0., 1., 1., 1., 2.,\n",
       "        1., 4., 4., 4., 4., 3., 3.],\n",
       "       [0., 4., 4., 3., 3., 3., 2., 4., 4., 4., 4., 2., 4., 4., 2., 2.,\n",
       "        3., 3., 3., 2., 2., 4., 4., 2., 3., 3., 3., 4., 4., 2., 2., 3.,\n",
       "        3., 3., 3., 3., 3., 4., 4., 3., 4., 2., 2., 2., 2., 2., 2., 4.,\n",
       "        4., 5., 5., 5., 5., 5., 1., 1., 1., 2., 2., 2., 3., 2., 3., 3.,\n",
       "        3., 3., 3., 0., 3., 3., 3., 2., 2., 2., 4., 4., 4., 4., 4., 2.,\n",
       "        2., 4., 3., 2., 3., 4., 3., 3., 3., 3., 3., 3., 1., 1., 5., 4.,\n",
       "        5., 4., 4., 4., 4., 2., 2., 3., 3., 5., 4., 4., 2., 2., 2., 4.,\n",
       "        4., 4., 2., 2., 2., 2., 1., 0., 0., 6., 6., 6., 6., 4., 3., 3.,\n",
       "        3., 3., 3., 3., 2., 2., 0.]])"
      ]
     },
     "execution_count": 24,
     "metadata": {},
     "output_type": "execute_result"
    }
   ],
   "source": [
    "scheduleMix(exampleSchedule, groups[0])"
   ]
  },
  {
   "cell_type": "code",
   "execution_count": null,
   "metadata": {},
   "outputs": [],
   "source": []
  }
 ],
 "metadata": {
  "kernelspec": {
   "display_name": "general",
   "language": "python",
   "name": "python3"
  },
  "language_info": {
   "codemirror_mode": {
    "name": "ipython",
    "version": 3
   },
   "file_extension": ".py",
   "mimetype": "text/x-python",
   "name": "python",
   "nbconvert_exporter": "python",
   "pygments_lexer": "ipython3",
   "version": "3.12.1"
  }
 },
 "nbformat": 4,
 "nbformat_minor": 2
}
